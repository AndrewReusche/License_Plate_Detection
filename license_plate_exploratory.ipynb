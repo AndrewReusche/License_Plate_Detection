{
  "nbformat": 4,
  "nbformat_minor": 0,
  "metadata": {
    "colab": {
      "provenance": [],
      "gpuType": "T4"
    },
    "kernelspec": {
      "name": "python3",
      "display_name": "Python 3"
    },
    "language_info": {
      "name": "python"
    },
    "accelerator": "GPU"
  },
  "cells": [
    {
      "cell_type": "markdown",
      "source": [],
      "metadata": {
        "id": "2AoGYTZQ5JvE"
      }
    },
    {
      "cell_type": "code",
      "source": [
        "!mkdir ~/.kaggle\n",
        "!touch ~/.kaggle/kaggle.json\n",
        "\n",
        "username = 'Andrew_Reusche92'\n",
        "api_key = '63cd28af853827307d2b6546dd833488'\n",
        "\n",
        "api_token = {\"username\":username,\"key\":api_key}\n",
        "\n",
        "import json\n",
        "\n",
        "with open('/root/.kaggle/kaggle.json', 'w') as file:\n",
        "    json.dump(api_token, file)\n",
        "\n",
        "!chmod 600 ~/.kaggle/kaggle.json\n",
        "\n"
      ],
      "metadata": {
        "id": "SXv9bAiGP5nS",
        "colab": {
          "base_uri": "https://localhost:8080/"
        },
        "outputId": "59a2b051-a3c4-409a-e1d4-b6debc7fb25c"
      },
      "execution_count": 1,
      "outputs": [
        {
          "output_type": "stream",
          "name": "stdout",
          "text": [
            "mkdir: cannot create directory ‘/root/.kaggle’: File exists\n"
          ]
        }
      ]
    },
    {
      "cell_type": "code",
      "execution_count": 2,
      "metadata": {
        "id": "glD4lfNzOvMh",
        "colab": {
          "base_uri": "https://localhost:8080/"
        },
        "outputId": "dbffdf60-ee36-4d96-a117-7c78b7cb327e"
      },
      "outputs": [
        {
          "output_type": "stream",
          "name": "stdout",
          "text": [
            "Dataset URL: https://www.kaggle.com/datasets/ronakgohil/license-plate-dataset\n",
            "License(s): CC0-1.0\n",
            "license-plate-dataset.zip: Skipping, found more recently modified local copy (use --force to force download)\n"
          ]
        }
      ],
      "source": [
        "!kaggle datasets download -d ronakgohil/license-plate-dataset\n"
      ]
    },
    {
      "cell_type": "code",
      "source": [
        "!unzip -q license-plate-dataset.zip -d data"
      ],
      "metadata": {
        "colab": {
          "base_uri": "https://localhost:8080/"
        },
        "collapsed": true,
        "id": "74-h7L4cOjLQ",
        "outputId": "59993014-1397-4777-f5c4-b18d6eaaf947"
      },
      "execution_count": 3,
      "outputs": [
        {
          "output_type": "stream",
          "name": "stdout",
          "text": [
            "replace data/archive/classes.txt? [y]es, [n]o, [A]ll, [N]one, [r]ename: A\n"
          ]
        }
      ]
    },
    {
      "cell_type": "code",
      "source": [
        "#verify gpu is working\n",
        "!nvidia-smi"
      ],
      "metadata": {
        "colab": {
          "base_uri": "https://localhost:8080/"
        },
        "id": "nq6I8VyGTS4F",
        "outputId": "9d3ecd83-8eca-41ae-ea94-f2bd79fabee7"
      },
      "execution_count": 4,
      "outputs": [
        {
          "output_type": "stream",
          "name": "stdout",
          "text": [
            "Sun Apr 13 00:49:30 2025       \n",
            "+-----------------------------------------------------------------------------------------+\n",
            "| NVIDIA-SMI 550.54.15              Driver Version: 550.54.15      CUDA Version: 12.4     |\n",
            "|-----------------------------------------+------------------------+----------------------+\n",
            "| GPU  Name                 Persistence-M | Bus-Id          Disp.A | Volatile Uncorr. ECC |\n",
            "| Fan  Temp   Perf          Pwr:Usage/Cap |           Memory-Usage | GPU-Util  Compute M. |\n",
            "|                                         |                        |               MIG M. |\n",
            "|=========================================+========================+======================|\n",
            "|   0  Tesla T4                       Off |   00000000:00:04.0 Off |                    0 |\n",
            "| N/A   41C    P8             11W /   70W |       0MiB /  15360MiB |      0%      Default |\n",
            "|                                         |                        |                  N/A |\n",
            "+-----------------------------------------+------------------------+----------------------+\n",
            "                                                                                         \n",
            "+-----------------------------------------------------------------------------------------+\n",
            "| Processes:                                                                              |\n",
            "|  GPU   GI   CI        PID   Type   Process name                              GPU Memory |\n",
            "|        ID   ID                                                               Usage      |\n",
            "|=========================================================================================|\n",
            "|  No running processes found                                                             |\n",
            "+-----------------------------------------------------------------------------------------+\n"
          ]
        }
      ]
    },
    {
      "cell_type": "code",
      "source": [
        "#import some libraries that may be useful\n",
        "\n",
        "#standard libraries\n",
        "import glob\n",
        "import json\n",
        "import os\n",
        "import random\n",
        "\n",
        "#data processing and visualization libraries\n",
        "import cv2\n",
        "import matplotlib.pyplot as plt\n",
        "import numpy as np\n",
        "import pandas as pd\n",
        "import seaborn as sns\n",
        "from PIL import Image\n",
        "\n",
        "#machine learning libraries\n",
        "from sklearn.metrics import mean_squared_error\n",
        "from sklearn.model_selection import train_test_split\n",
        "\n",
        "#PyTorch libraries\n",
        "import torch\n",
        "from torch.utils.data import Dataset\n",
        "from torch.utils.data import random_split\n",
        "from torchvision import transforms\n",
        "\n",
        "#TensorFlow/ keras libraries\n",
        "import tensorflow as tf\n",
        "from tensorflow.keras.layers import Conv2D, Dense, Dropout, Flatten, MaxPooling2D\n",
        "from tensorflow.keras.models import Sequential\n",
        "from tensorflow.keras.optimizers import Adam\n",
        "from tensorflow.keras.preprocessing.image import ImageDataGenerator"
      ],
      "metadata": {
        "id": "6Kzg8CxEHKG7"
      },
      "execution_count": 5,
      "outputs": []
    },
    {
      "cell_type": "code",
      "source": [
        "#define data paths\n",
        "data_directory= 'data/archive'\n",
        "train_image_directory= os.path.join(data_directory, 'images/train')\n",
        "val_images_directory= os.path.join(data_directory, 'images/val')\n",
        "train_label_directory= os.path.join(data_directory, 'labels/train')\n",
        "val_labels_directory= os.path.join(data_directory, 'labels/val')"
      ],
      "metadata": {
        "id": "IWPMDHnYKv9X"
      },
      "execution_count": 6,
      "outputs": []
    },
    {
      "cell_type": "code",
      "source": [
        "#covert YOLO format annotations to bounding box coordinates\n",
        "def convert_yolo_to_coor(label_path, image_width, image_height):\n",
        "  with open(label_path, 'r') as f:\n",
        "    lines= f.readlines()\n",
        "\n",
        "    boxes= []\n",
        "\n",
        "    for line in lines:\n",
        "      cls, x_center, y_center, width, height= map(float, line.strip().split())\n",
        "\n",
        "      x_center *= image_width\n",
        "      y_center *= image_height\n",
        "      width *= image_width\n",
        "      height *= image_height\n",
        "\n",
        "      x_min= x_center - width / 2\n",
        "      y_min= y_center - height / 2\n",
        "      x_max= x_center + width / 2\n",
        "      y_max= y_center + height / 2\n",
        "\n",
        "      boxes.append([x_min, y_min, x_max, y_max])\n",
        "\n",
        "    return boxes"
      ],
      "metadata": {
        "id": "2NYPc638SV3K"
      },
      "execution_count": 7,
      "outputs": []
    },
    {
      "cell_type": "code",
      "source": [
        "#pair images with object locations\n",
        "def load_dataset(image_directory, label_directory):\n",
        "  images= []\n",
        "  labels= []\n",
        "  image_paths= sorted(glob.glob(os.path.join(image_directory, '*.jpg')))\n",
        "\n",
        "  for image_path in image_paths:\n",
        "    label_filename= os.path.splitext(os.path.basename(image_path))[0] + '.txt'\n",
        "    label_path= os.path.join(label_directory, label_filename)\n",
        "\n",
        "    image= cv2.imread(image_path)\n",
        "    image= cv2.cvtColor(image, cv2.COLOR_BGR2RGB)\n",
        "    image_height, image_width= image.shape[:2]\n",
        "\n",
        "    boxes= convert_yolo_to_coor(label_path, image_width, image_height)\n",
        "\n",
        "    box= boxes[0]\n",
        "    images.append(image)\n",
        "    labels.append(box)\n",
        "\n",
        "  return images, labels"
      ],
      "metadata": {
        "id": "gDQ8n4clY5LF"
      },
      "execution_count": 8,
      "outputs": []
    },
    {
      "cell_type": "code",
      "source": [
        "#load in the training and validation data\n",
        "train_images, train_labels= load_dataset(train_image_directory, train_label_directory)\n",
        "print(f\"Loaded {len(train_images)} training images and {len(train_labels)} training labels\")\n",
        "\n",
        "val_images, val_labels= load_dataset(val_images_directory, val_labels_directory)\n",
        "print(f\"Loaded {len(val_images)} validation images and {len(val_labels)} validation labels\")"
      ],
      "metadata": {
        "colab": {
          "base_uri": "https://localhost:8080/"
        },
        "id": "wj0JMz73iadu",
        "outputId": "73e36a3f-9026-4139-cf68-49959aed002e"
      },
      "execution_count": 9,
      "outputs": [
        {
          "output_type": "stream",
          "name": "stdout",
          "text": [
            "Loaded 1526 training images and 1526 training labels\n",
            "Loaded 169 validation images and 169 validation labels\n"
          ]
        }
      ]
    },
    {
      "cell_type": "code",
      "source": [
        "#create a train, val, test split\n",
        "X_train, X_test, y_train, y_test= train_test_split(train_images,\n",
        "                                                   train_labels,\n",
        "                                                   test_size= 0.1,\n",
        "                                                   random_state= 24)\n",
        "X_val, y_val= val_images, val_labels\n",
        "\n",
        "print(f\"Training set {len(X_train)} images\")\n",
        "print(f\"Validation set {len(X_val)} images\")\n",
        "print(f\"Test set {len(X_test)} images\")"
      ],
      "metadata": {
        "colab": {
          "base_uri": "https://localhost:8080/"
        },
        "id": "VG-ptqOGlJUe",
        "outputId": "08b23b61-01e6-4eba-edf6-98cdc80fce8c"
      },
      "execution_count": 13,
      "outputs": [
        {
          "output_type": "stream",
          "name": "stdout",
          "text": [
            "Training set 1373 images\n",
            "Validation set 169 images\n",
            "Test set 153 images\n"
          ]
        }
      ]
    },
    {
      "cell_type": "markdown",
      "source": [
        "# Preprocess Data"
      ],
      "metadata": {
        "id": "o4Y6NdiMqpIb"
      }
    },
    {
      "cell_type": "code",
      "source": [
        "#preprocessing parameters\n",
        "IMAGE_SIZE= (128, 128)\n",
        "BATCH_SIZE= 32"
      ],
      "metadata": {
        "id": "ghgnfxiVqv27"
      },
      "execution_count": 14,
      "outputs": []
    },
    {
      "cell_type": "code",
      "source": [
        "#preprocessing function\n",
        "def preprocess_image_and_label(image, box, image_size=IMAGE_SIZE):\n",
        "  original_height, original_width= image.shape[:2]\n",
        "\n",
        "  image= cv2.resize(image, image_size)\n",
        "  image= image / 255.0\n",
        "\n",
        "  x_min, y_min, x_max, y_max= box\n",
        "  x_min= x_min * image_size[0] / original_width\n",
        "  x_max= x_max * image_size[0] / original_width\n",
        "  y_min= y_min * image_size[1] / original_height\n",
        "  y_max= y_max * image_size[1] / original_height\n",
        "\n",
        "  return image, np.array([x_min, y_min, x_max, y_max])"
      ],
      "metadata": {
        "id": "t8bDSU7qr7RG"
      },
      "execution_count": 22,
      "outputs": []
    },
    {
      "cell_type": "code",
      "source": [
        "#function to apply preprocessing\n",
        "def preprocess_dataset(images, labels):\n",
        "  preprocessed_images= []\n",
        "  preprocessed_labels= []\n",
        "\n",
        "  for img, box in zip(images, labels):\n",
        "    p_img, p_box= preprocess_image_and_label(img, box)\n",
        "    preprocessed_images.append(p_img)\n",
        "    preprocessed_labels.append(p_box)\n",
        "\n",
        "  return np.array(preprocessed_images), np.array(preprocessed_labels)"
      ],
      "metadata": {
        "id": "MVCMjOzatto3"
      },
      "execution_count": 23,
      "outputs": []
    },
    {
      "cell_type": "code",
      "source": [
        "#preprocess all data subsets\n",
        "X_train, y_train= preprocess_dataset(X_train, y_train)\n",
        "X_val, y_val= preprocess_dataset(X_val, y_val)\n",
        "X_test, y_test= preprocess_dataset(X_test, y_test)"
      ],
      "metadata": {
        "id": "Y28mMvh3vIpf"
      },
      "execution_count": 24,
      "outputs": []
    },
    {
      "cell_type": "code",
      "source": [],
      "metadata": {
        "id": "Kb0lmopOv4ya"
      },
      "execution_count": null,
      "outputs": []
    }
  ]
}